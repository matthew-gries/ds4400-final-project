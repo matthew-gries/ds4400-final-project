{
  "cells": [
    {
      "cell_type": "code",
      "execution_count": 1,
      "metadata": {},
      "outputs": [],
      "source": [
        "import sys\n",
        "sys.path.append(\"../\")"
      ]
    },
    {
      "cell_type": "code",
      "execution_count": 2,
      "metadata": {},
      "outputs": [],
      "source": [
        "from typing import Tuple, Dict, List\n",
        "from collections import defaultdict\n",
        "from ds4400_final_project.dataset.common import train_and_evaluate_classifier, print_classifier_results, get_best_test_result\n",
        "from ds4400_final_project.dataset.common_plotting import plot_param_comparison_per_dataset\n",
        "from sklearn.svm import SVC\n",
        "import matplotlib.pyplot as plt\n",
        "import numpy as np"
      ]
    },
    {
      "cell_type": "code",
      "execution_count": 3,
      "metadata": {},
      "outputs": [],
      "source": [
        "# list of all kernels to try\n",
        "kernels = [\"linear\", \"poly\", \"rbf\", \"sigmoid\"]\n",
        "# list of all datasets to try\n",
        "csv_files = [\"features_3_sec.csv\", \"features_30_sec.csv\"]\n",
        "\n",
        "# { CSV_FILENAME: { SOLVER: ( TRAIN_ACC, TEST_ACC, FAILED_COUNT ) }\n",
        "results: Dict[str, Dict[str, Tuple]] = defaultdict(dict)\n",
        "\n",
        "# iterate over all solvers\n",
        "for kernel in kernels:\n",
        "\t# iterate over all datasets\n",
        "\tfor filename in csv_files:\n",
        "\t\t# construct the model\n",
        "\t\tclassifier = SVC(kernel=kernel)\n",
        "\n",
        "\t\t# train and evaluate the model\n",
        "\t\ttrain_acc, test_acc, failed_count = train_and_evaluate_classifier(filename, classifier)\n",
        "\t\tresults[filename][kernel] = (train_acc, test_acc, failed_count)"
      ]
    },
    {
      "cell_type": "code",
      "execution_count": 4,
      "metadata": {},
      "outputs": [
        {
          "name": "stdout",
          "output_type": "stream",
          "text": [
            "============================================================\n",
            "Features 3 Sec\n",
            "============================================================\n",
            "Train accuracy: 81.02%\n",
            "Train error:    18.98%\n",
            "Test accuracy:  76.28%\n",
            "Test error:     23.72%\n",
            "\n",
            "| #   | Genre      | # of Incorrect | % of All Incorrect |\n",
            "| --- |    ---     |      ---       |        ---         |\n",
            "| 01  | ROCK       | 418            | 20.4%              |\n",
            "| 02  | REGGAE     | 310            | 15.1%              |\n",
            "| 03  | COUNTRY    | 272            | 13.3%              |\n",
            "| 04  | DISCO      | 267            | 13.0%              |\n",
            "| 05  | HIPHOP     | 241            | 11.7%              |\n",
            "| 06  | BLUES      | 153            | 7.5%               |\n",
            "| 07  | POP        | 136            | 6.6%               |\n",
            "| 08  | JAZZ       | 121            | 5.9%               |\n",
            "| 09  | METAL      | 101            | 4.9%               |\n",
            "| 10  | CLASSICAL  | 33             | 1.6%               |\n",
            "============================================================\n",
            "Features 3 Sec\n",
            "============================================================\n",
            "Train accuracy: 87.09%\n",
            "Train error:    12.91%\n",
            "Test accuracy:  79.92%\n",
            "Test error:     20.08%\n",
            "\n",
            "| #   | Genre      | # of Incorrect | % of All Incorrect |\n",
            "| --- |    ---     |      ---       |        ---         |\n",
            "| 01  | ROCK       | 269            | 17.6%              |\n",
            "| 02  | HIPHOP     | 221            | 14.5%              |\n",
            "| 03  | BLUES      | 218            | 14.3%              |\n",
            "| 04  | REGGAE     | 190            | 12.5%              |\n",
            "| 05  | DISCO      | 168            | 11.0%              |\n",
            "| 06  | POP        | 135            | 8.8%               |\n",
            "| 07  | METAL      | 107            | 7.0%               |\n",
            "| 08  | JAZZ       | 94             | 6.2%               |\n",
            "| 09  | COUNTRY    | 85             | 5.6%               |\n",
            "| 10  | CLASSICAL  | 39             | 2.6%               |\n",
            "============================================================\n",
            "Features 3 Sec\n",
            "============================================================\n",
            "Train accuracy: 91.18%\n",
            "Train error:    8.82%\n",
            "Test accuracy:  85.2%\n",
            "Test error:     14.8%\n",
            "\n",
            "| #   | Genre      | # of Incorrect | % of All Incorrect |\n",
            "| --- |    ---     |      ---       |        ---         |\n",
            "| 01  | ROCK       | 224            | 20.8%              |\n",
            "| 02  | DISCO      | 137            | 12.7%              |\n",
            "| 03  | COUNTRY    | 133            | 12.3%              |\n",
            "| 04  | HIPHOP     | 127            | 11.8%              |\n",
            "| 05  | REGGAE     | 108            | 10.0%              |\n",
            "| 06  | BLUES      | 95             | 8.8%               |\n",
            "| 07  | POP        | 88             | 8.2%               |\n",
            "| 08  | JAZZ       | 82             | 7.6%               |\n",
            "| 09  | METAL      | 66             | 6.1%               |\n",
            "| 10  | CLASSICAL  | 18             | 1.7%               |\n",
            "============================================================\n",
            "Features 3 Sec\n",
            "============================================================\n",
            "Train accuracy: 50.2%\n",
            "Train error:    49.8%\n",
            "Test accuracy:  52.35%\n",
            "Test error:     47.65%\n",
            "\n",
            "| #   | Genre      | # of Incorrect | % of All Incorrect |\n",
            "| --- |    ---     |      ---       |        ---         |\n",
            "| 01  | ROCK       | 703            | 14.3%              |\n",
            "| 02  | REGGAE     | 670            | 13.7%              |\n",
            "| 03  | HIPHOP     | 631            | 12.9%              |\n",
            "| 04  | DISCO      | 623            | 12.7%              |\n",
            "| 05  | COUNTRY    | 607            | 12.4%              |\n",
            "| 06  | BLUES      | 487            | 9.9%               |\n",
            "| 07  | JAZZ       | 448            | 9.1%               |\n",
            "| 08  | POP        | 319            | 6.5%               |\n",
            "| 09  | METAL      | 214            | 4.4%               |\n",
            "| 10  | CLASSICAL  | 202            | 4.1%               |\n",
            "============================================================\n",
            "Features 30 Sec\n",
            "============================================================\n",
            "Train accuracy: 97.61%\n",
            "Train error:    2.39%\n",
            "Test accuracy:  66.36%\n",
            "Test error:     33.64%\n",
            "\n",
            "| #   | Genre      | # of Incorrect | % of All Incorrect |\n",
            "| --- |    ---     |      ---       |        ---         |\n",
            "| 01  | ROCK       | 24             | 18.9%              |\n",
            "| 02  | REGGAE     | 20             | 15.7%              |\n",
            "| 03  | DISCO      | 18             | 14.2%              |\n",
            "| 04  | HIPHOP     | 15             | 11.8%              |\n",
            "| 05  | BLUES      | 14             | 11.0%              |\n",
            "| 06  | COUNTRY    | 13             | 10.2%              |\n",
            "| 07  | JAZZ       | 11             | 8.7%               |\n",
            "| 08  | POP        | 7              | 5.5%               |\n",
            "| 09  | METAL      | 5              | 3.9%               |\n",
            "| 10  | CLASSICAL  | 0              | 0.0%               |\n",
            "============================================================\n",
            "Features 30 Sec\n",
            "============================================================\n",
            "Train accuracy: 77.91%\n",
            "Train error:    22.09%\n",
            "Test accuracy:  57.27%\n",
            "Test error:     42.73%\n",
            "\n",
            "| #   | Genre      | # of Incorrect | % of All Incorrect |\n",
            "| --- |    ---     |      ---       |        ---         |\n",
            "| 01  | BLUES      | 55             | 19.0%              |\n",
            "| 02  | HIPHOP     | 44             | 15.2%              |\n",
            "| 03  | REGGAE     | 43             | 14.9%              |\n",
            "| 04  | ROCK       | 42             | 14.5%              |\n",
            "| 05  | JAZZ       | 26             | 9.0%               |\n",
            "| 06  | POP        | 26             | 9.0%               |\n",
            "| 07  | COUNTRY    | 16             | 5.5%               |\n",
            "| 08  | DISCO      | 15             | 5.2%               |\n",
            "| 09  | METAL      | 15             | 5.2%               |\n",
            "| 10  | CLASSICAL  | 7              | 2.4%               |\n",
            "============================================================\n",
            "Features 30 Sec\n",
            "============================================================\n",
            "Train accuracy: 90.3%\n",
            "Train error:    9.7%\n",
            "Test accuracy:  67.58%\n",
            "Test error:     32.42%\n",
            "\n",
            "| #   | Genre      | # of Incorrect | % of All Incorrect |\n",
            "| --- |    ---     |      ---       |        ---         |\n",
            "| 01  | ROCK       | 32             | 18.6%              |\n",
            "| 02  | BLUES      | 24             | 14.0%              |\n",
            "| 03  | DISCO      | 22             | 12.8%              |\n",
            "| 04  | HIPHOP     | 22             | 12.8%              |\n",
            "| 05  | REGGAE     | 20             | 11.6%              |\n",
            "| 06  | POP        | 19             | 11.0%              |\n",
            "| 07  | COUNTRY    | 17             | 9.9%               |\n",
            "| 08  | JAZZ       | 12             | 7.0%               |\n",
            "| 09  | METAL      | 4              | 2.3%               |\n",
            "| 10  | CLASSICAL  | 0              | 0.0%               |\n",
            "============================================================\n",
            "Features 30 Sec\n",
            "============================================================\n",
            "Train accuracy: 65.22%\n",
            "Train error:    34.78%\n",
            "Test accuracy:  51.82%\n",
            "Test error:     48.18%\n",
            "\n",
            "| #   | Genre      | # of Incorrect | % of All Incorrect |\n",
            "| --- |    ---     |      ---       |        ---         |\n",
            "| 01  | ROCK       | 58             | 14.8%              |\n",
            "| 02  | BLUES      | 56             | 14.3%              |\n",
            "| 03  | HIPHOP     | 53             | 13.5%              |\n",
            "| 04  | DISCO      | 48             | 12.2%              |\n",
            "| 05  | JAZZ       | 43             | 11.0%              |\n",
            "| 06  | REGGAE     | 39             | 9.9%               |\n",
            "| 07  | COUNTRY    | 35             | 8.9%               |\n",
            "| 08  | POP        | 33             | 8.4%               |\n",
            "| 09  | CLASSICAL  | 15             | 3.8%               |\n",
            "| 10  | METAL      | 12             | 3.1%               |\n"
          ]
        }
      ],
      "source": [
        "# print all results from all models\n",
        "for filename, result in results.items():\n",
        "\tfor kernel, (train_acc, test_acc, failed_count) in result.items():\n",
        "\t\tprint_classifier_results(f\"{filename} ({kernel})\", train_acc, test_acc, failed_count)"
      ]
    },
    {
      "cell_type": "code",
      "execution_count": 5,
      "metadata": {},
      "outputs": [
        {
          "name": "stdout",
          "output_type": "stream",
          "text": [
            "============================================================\n",
            "Best Test Result: Features 3 Sec\n",
            "============================================================\n",
            "Train accuracy: 91.18%\n",
            "Train error:    8.82%\n",
            "Test accuracy:  85.2%\n",
            "Test error:     14.8%\n",
            "\n",
            "| #   | Genre      | # of Incorrect | % of All Incorrect |\n",
            "| --- |    ---     |      ---       |        ---         |\n",
            "| 01  | ROCK       | 224            | 20.8%              |\n",
            "| 02  | DISCO      | 137            | 12.7%              |\n",
            "| 03  | COUNTRY    | 133            | 12.3%              |\n",
            "| 04  | HIPHOP     | 127            | 11.8%              |\n",
            "| 05  | REGGAE     | 108            | 10.0%              |\n",
            "| 06  | BLUES      | 95             | 8.8%               |\n",
            "| 07  | POP        | 88             | 8.2%               |\n",
            "| 08  | JAZZ       | 82             | 7.6%               |\n",
            "| 09  | METAL      | 66             | 6.1%               |\n",
            "| 10  | CLASSICAL  | 18             | 1.7%               |\n"
          ]
        }
      ],
      "source": [
        "# print the results from the model with the best test accuracy\n",
        "filename, kernel, (train_acc, test_acc, failed_count) = get_best_test_result(results)\n",
        "print_classifier_results(f\"Best Test Result: {filename} ({kernel})\", train_acc, test_acc, failed_count)"
      ]
    },
    {
      "cell_type": "code",
      "execution_count": 16,
      "metadata": {},
      "outputs": [
        {
          "data": {
            "image/png": "[encoded data removed]",
            "text/plain": [
              "<Figure size 432x288 with 1 Axes>"
            ]
          },
          "metadata": {
            "needs_background": "light"
          },
          "output_type": "display_data"
        },
        {
          "data": {
            "image/png": "[encoded data removed]",
            "text/plain": [
              "<Figure size 432x288 with 1 Axes>"
            ]
          },
          "metadata": {
            "needs_background": "light"
          },
          "output_type": "display_data"
        }
      ],
      "source": [
        "plot_param_comparison_per_dataset(\"SVM Kernel Comparison\", \"Kernel\", results)"
      ]
    }
  ],
  "metadata": {
    "colab": {
      "authorship_tag": "ABX9TyMTBcnr5bDrP6pBPRTXnSCt",
      "include_colab_link": true,
      "name": "test.ipynb",
      "provenance": []
    },
    "kernelspec": {
      "display_name": "Python 3 (ipykernel)",
      "language": "python",
      "name": "python3"
    },
    "language_info": {
      "codemirror_mode": {
        "name": "ipython",
        "version": 3
      },
      "file_extension": ".py",
      "mimetype": "text/x-python",
      "name": "python",
      "nbconvert_exporter": "python",
      "pygments_lexer": "ipython3",
      "version": "3.6.8"
    }
  },
  "nbformat": 4,
  "nbformat_minor": 1
}
