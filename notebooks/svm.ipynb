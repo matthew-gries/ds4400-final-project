{
  "cells": [
    {
      "cell_type": "code",
      "execution_count": 34,
      "metadata": {
        "id": "xdUwwSY_vCp0"
      },
      "outputs": [],
      "source": [
        "from typing import Dict, List, Optional, Union, Tuple, Callable\n",
        "import sys\n",
        "sys.path.append('../')\n",
        "from ds4400_final_project.dataset.constants import DATASET_FOLDER\n",
        "from pathlib import Path\n",
        "from typing import Tuple, Dict\n",
        "from sklearn import svm\n",
        "from sklearn.model_selection import train_test_split\n",
        "from sklearn.preprocessing import normalize\n",
        "import numpy as np\n",
        "from collections import defaultdict\n",
        "\n",
        "number = Union[float, int]"
      ]
    },
    {
      "cell_type": "code",
      "execution_count": 27,
      "metadata": {},
      "outputs": [],
      "source": [
        "def load_data_from_file(csv_filename: str) -> Tuple[np.ndarray, np.ndarray, Dict[int, str], Dict[str, int]]:\n",
        "\t\"\"\" Load the CSV file from the dataset folder. \"\"\"\n",
        "\tfile = str(Path(DATASET_FOLDER) / csv_filename)\n",
        "\tfeatures_list = np.genfromtxt(file, dtype=None, encoding=None, delimiter=\",\", skip_header=1, usecols=range(2, 60))\n",
        "\tfeatures = np.array([list(x) for x in features_list])\n",
        "\n",
        "\t# Create a mapping between a numeric value and genre\n",
        "\tindex_genre_map = {i: genre for i, genre in enumerate(np.unique(features[:,-1]))}\n",
        "\tgenre_index_map = {value: key for key, value in index_genre_map.items()}\n",
        "\n",
        "\t# split the inputs and their labels\n",
        "\tX = features[:,:57]\n",
        "\ty = np.array([genre_index_map[genre] for genre in features[:,-1]])\n",
        "\n",
        "\t# normalize the data\n",
        "\tX = normalize(X, axis=0)\n",
        "\n",
        "\treturn X, y, index_genre_map, genre_index_map"
      ]
    },
    {
      "cell_type": "code",
      "execution_count": 42,
      "metadata": {},
      "outputs": [],
      "source": [
        "def train_evaluate_classifier(csv_filename: str, test_size: float = 0.33, random_state: int = 42) -> Tuple[float, float, Dict[str, int]]:\n",
        "\n",
        "\t# import the data from the seconds features CSV\n",
        "\tX, y, index_genre_map, genre_index_map = load_data_from_file(csv_filename)\n",
        "\n",
        "\t# split all the data into training and testing sets\n",
        "\tX_train, X_test, y_train, y_test = train_test_split(X, y, test_size=test_size, random_state=random_state)\n",
        "\n",
        "\t# create and train the classifier\n",
        "\tclassifier = svm.SVC()\n",
        "\tclassifier.fit(X_train, y_train)\n",
        "\t\n",
        "\t# evaluate the model on training data\n",
        "\ttrain_pred = classifier.predict(X_train)\n",
        "\ttrain_failed = np.where(np.not_equal(y_train.ravel(), train_pred))\n",
        "\tX_train_failed = X_train[train_failed]\n",
        "\ty_train_failed = y_train[train_failed]\n",
        "\n",
        "\t# compute the accuracy / error on the training data\n",
        "\ttrain_accuracy = classifier.score(X_train, y_train)\n",
        "\n",
        "\t# evaluate the model on testing data\n",
        "\ttest_pred = classifier.predict(X_test)\n",
        "\ttest_failed = np.where(np.not_equal(y_test.ravel(), test_pred))\n",
        "\tX_test_failed = X_test[test_failed]\n",
        "\ty_test_failed = y_test[test_failed]\n",
        "\n",
        "\t# compute the accuracy / error on the testing data\n",
        "\ttest_accuracy = classifier.score(X_test, y_test)\n",
        "\n",
        "\tfailed_count: Dict[str, int] = {genre: 0 for genre in genre_index_map.keys()}\n",
        "\n",
        "\tfor y_failed in [*y_train_failed, *y_test_failed]:\n",
        "\t\tgenre = index_genre_map[y_failed]\n",
        "\t\tfailed_count[genre] += 1\n",
        "\n",
        "\treturn train_accuracy, test_accuracy, failed_count"
      ]
    },
    {
      "cell_type": "code",
      "execution_count": 74,
      "metadata": {},
      "outputs": [],
      "source": [
        "def print_results(title:str, train_accuracy: float, test_accuracy: float, failed_count: Dict[str, int]) -> None:\n",
        "\ttotal_incorrect = sum(failed_count.values())\n",
        "\n",
        "\tprint(\"==\"*26)\n",
        "\tprint(title)\n",
        "\tprint(\"==\"*26)\n",
        "\tprint(f\"Train accuracy: {round(train_accuracy * 100, 3)}\")\n",
        "\tprint(f\"Train error:    {round((1-train_accuracy) * 100, 3)}\")\n",
        "\tprint(f\"Test accuracy:  {round(test_accuracy * 100, 3)}\")\n",
        "\tprint(f\"Test error:     {round((1-test_accuracy) * 100, 3)}\")\n",
        "\tprint()\n",
        "\tprint(\"Genre\".ljust(15), \"| # of Incorrect | % of All Incorrect\")\n",
        "\tprint(\"--\"*26)\n",
        "\n",
        "\tfailed = sorted([(genre, count) for genre, count in failed_count.items()], key=lambda t: t[1], reverse=True)\n",
        "\tfor i, (genre, failed_count) in enumerate(failed):\n",
        "\t\tprint(f\"[{i+1:02}]\", genre.upper().ljust(10), \"|\", str(failed_count).ljust(14), f\"| {round((failed_count / total_incorrect) * 100, 3)}%\")\n",
        "\tprint()"
      ]
    },
    {
      "cell_type": "code",
      "execution_count": 66,
      "metadata": {},
      "outputs": [],
      "source": [
        "# import the data from the 3 seconds features CSV\n",
        "train_accuracy_3s, test_accuracy_3s, failed_count_3s = train_evaluate_classifier(\"features_3_sec.csv\")\n",
        "train_accuracy_30s, test_accuracy_30s, failed_count_30s = train_evaluate_classifier(\"features_30_sec.csv\")"
      ]
    },
    {
      "cell_type": "code",
      "execution_count": 75,
      "metadata": {},
      "outputs": [
        {
          "name": "stdout",
          "output_type": "stream",
          "text": [
            "====================================================\n",
            "3 Second Clips\n",
            "====================================================\n",
            "Train accuracy: 86.747\n",
            "Train error:    13.253\n",
            "Test accuracy:  82.681\n",
            "Test error:     17.319\n",
            "\n",
            "Genre           | # of Incorrect | % of All Incorrect\n",
            "----------------------------------------------------\n",
            "[01] ROCK       | 272            | 18.656%\n",
            "[02] HIPHOP     | 206            | 14.129%\n",
            "[03] DISCO      | 196            | 13.443%\n",
            "[04] COUNTRY    | 165            | 11.317%\n",
            "[05] REGGAE     | 157            | 10.768%\n",
            "[06] BLUES      | 148            | 10.151%\n",
            "[07] POP        | 99             | 6.79%\n",
            "[08] JAZZ       | 94             | 6.447%\n",
            "[09] METAL      | 94             | 6.447%\n",
            "[10] CLASSICAL  | 27             | 1.852%\n",
            "\n",
            "====================================================\n",
            "30 Second Clips\n",
            "====================================================\n",
            "Train accuracy: 82.687\n",
            "Train error:    17.313\n",
            "Test accuracy:  62.727\n",
            "Test error:     37.273\n",
            "\n",
            "Genre           | # of Incorrect | % of All Incorrect\n",
            "----------------------------------------------------\n",
            "[01] ROCK       | 51             | 21.339%\n",
            "[02] BLUES      | 46             | 19.247%\n",
            "[03] HIPHOP     | 30             | 12.552%\n",
            "[04] DISCO      | 26             | 10.879%\n",
            "[05] REGGAE     | 23             | 9.623%\n",
            "[06] COUNTRY    | 21             | 8.787%\n",
            "[07] POP        | 18             | 7.531%\n",
            "[08] JAZZ       | 16             | 6.695%\n",
            "[09] METAL      | 5              | 2.092%\n",
            "[10] CLASSICAL  | 3              | 1.255%\n",
            "\n"
          ]
        }
      ],
      "source": [
        "print_results(\"3 Second Clips\", train_accuracy_3s, test_accuracy_3s, failed_count_3s)\n",
        "print_results(\"30 Second Clips\", train_accuracy_30s, test_accuracy_30s, failed_count_30s)"
      ]
    }
  ],
  "metadata": {
    "colab": {
      "authorship_tag": "ABX9TyMTBcnr5bDrP6pBPRTXnSCt",
      "include_colab_link": true,
      "name": "test.ipynb",
      "provenance": []
    },
    "kernelspec": {
      "display_name": "Python 3 (ipykernel)",
      "language": "python",
      "name": "python3"
    },
    "language_info": {
      "codemirror_mode": {
        "name": "ipython",
        "version": 3
      },
      "file_extension": ".py",
      "mimetype": "text/x-python",
      "name": "python",
      "nbconvert_exporter": "python",
      "pygments_lexer": "ipython3",
      "version": "3.6.8"
    }
  },
  "nbformat": 4,
  "nbformat_minor": 1
}
