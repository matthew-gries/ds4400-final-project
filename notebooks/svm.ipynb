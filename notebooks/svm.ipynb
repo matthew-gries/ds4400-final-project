{
  "cells": [
    {
      "cell_type": "code",
      "execution_count": 66,
      "metadata": {
        "id": "xdUwwSY_vCp0"
      },
      "outputs": [],
      "source": [
        "from ds4400_final_project.dataset.constants import DATASET_FOLDER\n",
        "from pathlib import Path\n",
        "from typing import Tuple, Dict\n",
        "from sklearn import svm\n",
        "from sklearn.model_selection import train_test_split\n",
        "import numpy as np"
      ]
    },
    {
      "cell_type": "code",
      "execution_count": 67,
      "metadata": {},
      "outputs": [],
      "source": [
        "def load_data_from_file(csv_filename: str) -> Tuple[np.array, np.array, Dict[int, str], Dict[str, int]]:\n",
        "\t\"\"\" Load the CSV file from the dataset folder. \"\"\"\n",
        "\tfile = str(Path(DATASET_FOLDER) / csv_filename)\n",
        "\tfeatures_list = np.genfromtxt(file, dtype=None, encoding=None, delimiter=\",\", skip_header=1, usecols=range(2, 60))\n",
        "\tfeatures = np.array([list(x) for x in features_list])\n",
        "\n",
        "\t# Create a mapping between a numeric value and genre\n",
        "\tindex_genre_map = {i: genre for i, genre in enumerate(np.unique(features[:,-1]))}\n",
        "\tgenre_index_map = {value: key for key, value in index_genre_map.items()}\n",
        "\n",
        "\t# split the inputs and their labels\n",
        "\tx = features[:,:57]\n",
        "\ty = np.array([genre_index_map[genre] for genre in features[:,-1]])\n",
        "\n",
        "\treturn x, y, index_genre_map, genre_index_map"
      ]
    },
    {
      "cell_type": "code",
      "execution_count": 71,
      "metadata": {},
      "outputs": [],
      "source": [
        "# import the data from the 3 seconds features CSV\n",
        "X, y, index_genre_map, genre_index_map = load_data_from_file(\"features_3_sec.csv\")"
      ]
    },
    {
      "cell_type": "code",
      "execution_count": 72,
      "metadata": {},
      "outputs": [],
      "source": [
        "# split all the data into training and testing sets\n",
        "x_train, x_test, y_train, y_test = train_test_split(X, y, test_size=0.33, random_state=42)"
      ]
    },
    {
      "cell_type": "code",
      "execution_count": 80,
      "metadata": {},
      "outputs": [
        {
          "data": {
            "text/plain": [
              "SVC()"
            ]
          },
          "execution_count": 80,
          "metadata": {},
          "output_type": "execute_result"
        }
      ],
      "source": [
        "classifier = svm.SVC()\n",
        "classifier.fit(X, y)"
      ]
    },
    {
      "cell_type": "code",
      "execution_count": 81,
      "metadata": {},
      "outputs": [
        {
          "data": {
            "text/plain": [
              "0.2938938938938939"
            ]
          },
          "execution_count": 81,
          "metadata": {},
          "output_type": "execute_result"
        }
      ],
      "source": [
        "classifier.score(X, y)\n",
        "# classifier.score(x_train, y_train)\n",
        "# classifier.score(x_test, y_test)"
      ]
    }
  ],
  "metadata": {
    "colab": {
      "authorship_tag": "ABX9TyMTBcnr5bDrP6pBPRTXnSCt",
      "include_colab_link": true,
      "name": "test.ipynb",
      "provenance": []
    },
    "kernelspec": {
      "display_name": "Python 3",
      "name": "python3"
    },
    "language_info": {
      "codemirror_mode": {
        "name": "ipython",
        "version": 3
      },
      "file_extension": ".py",
      "mimetype": "text/x-python",
      "name": "python",
      "nbconvert_exporter": "python",
      "pygments_lexer": "ipython3",
      "version": "3.9.7"
    }
  },
  "nbformat": 4,
  "nbformat_minor": 0
}
