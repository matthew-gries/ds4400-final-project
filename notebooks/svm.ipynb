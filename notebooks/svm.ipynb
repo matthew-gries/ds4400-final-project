{
 "cells": [
  {
   "cell_type": "code",
   "execution_count": 1,
   "metadata": {
    "id": "xdUwwSY_vCp0"
   },
   "outputs": [],
   "source": [
    "from ds4400_final_project.dataset.constants import DATASET_FOLDER\n",
    "from pathlib import Path\n",
    "from typing import Tuple, Dict\n",
    "from sklearn import svm\n",
    "from sklearn.preprocessing import normalize\n",
    "from sklearn.model_selection import train_test_split\n",
    "import numpy as np"
   ]
  },
  {
   "cell_type": "code",
   "execution_count": 2,
   "metadata": {},
   "outputs": [],
   "source": [
    "def load_data_from_file(csv_filename: str) -> Tuple[np.array, np.array, Dict[int, str], Dict[str, int]]:\n",
    "\t\"\"\" Load the CSV file from the dataset folder. \"\"\"\n",
    "\tfile = str(Path(DATASET_FOLDER) / csv_filename)\n",
    "\tfeatures_list = np.genfromtxt(file, dtype=None, encoding=None, delimiter=\",\", skip_header=1, usecols=range(2, 60))\n",
    "\tfeatures = np.array([list(x) for x in features_list])\n",
    "\n",
    "\t# Create a mapping between a numeric value and genre\n",
    "\tindex_genre_map = {i: genre for i, genre in enumerate(np.unique(features[:,-1]))}\n",
    "\tgenre_index_map = {value: key for key, value in index_genre_map.items()}\n",
    "\n",
    "\t# split the inputs and their labels\n",
    "\tx = normalize(features[:,:57])\n",
    "\ty = normalize(np.array([genre_index_map[genre] for genre in features[:,-1]]).reshape(-1, 1)).flatten()\n",
    "\n",
    "\treturn x, y, index_genre_map, genre_index_map"
   ]
  },
  {
   "cell_type": "code",
   "execution_count": 3,
   "metadata": {},
   "outputs": [],
   "source": [
    "# import the data from the 3 seconds and 30 seconds features CSV\n",
    "X_3, y_3, index_genre_map_3, genre_index_map_3 = load_data_from_file(\"features_3_sec.csv\")\n",
    "X_30, y_30, index_genre_map_30, genre_index_map_30 = load_data_from_file(\"features_30_sec.csv\")"
   ]
  },
  {
   "cell_type": "code",
   "execution_count": 4,
   "metadata": {},
   "outputs": [],
   "source": [
    "# split all the data into training and testing sets\n",
    "x_3_train, x_3_test, y_3_train, y_3_test = train_test_split(X_3, y_3, test_size=0.33, random_state=42)\n",
    "x_30_train, x_30_test, y_30_train, y_30_test = train_test_split(X_30, y_30, test_size=0.33, random_state=42)"
   ]
  },
  {
   "cell_type": "code",
   "execution_count": 7,
   "metadata": {},
   "outputs": [
    {
     "data": {
      "text/plain": [
       "SVC(C=0.1, kernel='sigmoid')"
      ]
     },
     "execution_count": 7,
     "metadata": {},
     "output_type": "execute_result"
    }
   ],
   "source": [
    "C = 0.1\n",
    "kernel = 'sigmoid'\n",
    "classifier_3 = svm.SVC(C=C, kernel=kernel)\n",
    "classifier_30 = svm.SVC(C=C, kernel=kernel)\n",
    "classifier_3.fit(x_3_train, y_3_train)\n",
    "classifier_30.fit(x_30_train, y_30_train)"
   ]
  },
  {
   "cell_type": "code",
   "execution_count": 8,
   "metadata": {},
   "outputs": [
    {
     "name": "stdout",
     "output_type": "stream",
     "text": [
      "Train accuracy, 3 sec:  0.9021365605856866\n",
      "Test accuracy, 3 sec:  0.8953594176524113\n",
      "Train accuracy, 30 sec:  0.9044776119402985\n",
      "Test accuracy, 30 sec:  0.8909090909090909\n"
     ]
    }
   ],
   "source": [
    "train_3_acc = classifier_3.score(x_3_train, y_3_train)\n",
    "test_3_acc = classifier_3.score(x_3_test, y_3_test)\n",
    "train_30_acc = classifier_30.score(x_30_train, y_30_train)\n",
    "test_30_acc = classifier_30.score(x_30_test, y_30_test)\n",
    "print(\"Train accuracy, 3 sec: \", train_3_acc)\n",
    "print(\"Test accuracy, 3 sec: \", test_3_acc)\n",
    "print(\"Train accuracy, 30 sec: \", train_30_acc)\n",
    "print(\"Test accuracy, 30 sec: \", test_30_acc)"
   ]
  }
 ],
 "metadata": {
  "colab": {
   "authorship_tag": "ABX9TyMTBcnr5bDrP6pBPRTXnSCt",
   "include_colab_link": true,
   "name": "test.ipynb",
   "provenance": []
  },
  "kernelspec": {
   "display_name": "Python 3 (ipykernel)",
   "language": "python",
   "name": "python3"
  },
  "language_info": {
   "codemirror_mode": {
    "name": "ipython",
    "version": 3
   },
   "file_extension": ".py",
   "mimetype": "text/x-python",
   "name": "python",
   "nbconvert_exporter": "python",
   "pygments_lexer": "ipython3",
   "version": "3.9.7"
  }
 },
 "nbformat": 4,
 "nbformat_minor": 1
}
