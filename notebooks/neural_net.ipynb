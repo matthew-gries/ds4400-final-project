{
 "cells": [
  {
   "cell_type": "code",
   "execution_count": 87,
   "metadata": {},
   "outputs": [],
   "source": [
    "from sklearn.preprocessing import StandardScaler\n",
    "import sys\n",
    "sys.path.append(\"../\")\n",
    "from ds4400_final_project.dataset.constants import DATASET_FOLDER\n",
    "from pathlib import Path\n",
    "from typing import Tuple, Dict\n",
    "import torch\n",
    "import torch.nn as nn\n",
    "from torch.utils.data import DataLoader, Dataset\n",
    "from sklearn.preprocessing import normalize\n",
    "from sklearn.model_selection import train_test_split\n",
    "from sklearn.metrics import accuracy_score\n",
    "import matplotlib.pyplot as plt\n",
    "import numpy as np\n"
   ]
  },
  {
   "cell_type": "code",
   "execution_count": 88,
   "metadata": {},
   "outputs": [],
   "source": [
    "def load_data_from_file(csv_filename: str) -> Tuple[np.array, np.array, Dict[int, str], Dict[str, int]]:\n",
    "\t\"\"\" Load the CSV file from the dataset folder. \"\"\"\n",
    "\tfile = str(Path(DATASET_FOLDER) / csv_filename)\n",
    "\tfeatures_list = np.genfromtxt(\n",
    "\t\tfile, dtype=None, encoding=None, delimiter=\",\", skip_header=1, usecols=range(2, 60))\n",
    "\tfeatures = np.array([list(x) for x in features_list])\n",
    "\n",
    "\t# Create a mapping between a numeric value and genre\n",
    "\tindex_genre_map = {i: genre for i,\n",
    "                    genre in enumerate(np.unique(features[:, -1]))}\n",
    "\tgenre_index_map = {value: key for key, value in index_genre_map.items()}\n",
    "\n",
    "\t# split the inputs and their labels\n",
    "\tX = features[:, :57]\n",
    "\ty = np.array([genre_index_map[genre] for genre in features[:, -1]])\n",
    "\n",
    "\t# normalize the data\n",
    "\tX = normalize(X, axis=0)\n",
    "\n",
    "\tscaler = StandardScaler()\n",
    "\tX = scaler.fit_transform(X)\n",
    "\n",
    "\treturn X, y, index_genre_map, genre_index_map\n"
   ]
  },
  {
   "cell_type": "code",
   "execution_count": 72,
   "metadata": {},
   "outputs": [],
   "source": [
    "# import the data from the 3 seconds and 30 seconds features CSV\n",
    "X_3, y_3, index_genre_map_3, genre_index_map_3 = load_data_from_file(\"features_3_sec.csv\")\n",
    "X_30, y_30, index_genre_map_30, genre_index_map_30 = load_data_from_file(\"features_30_sec.csv\")"
   ]
  },
  {
   "cell_type": "code",
   "execution_count": 73,
   "metadata": {},
   "outputs": [],
   "source": [
    "# split all the data into training and testing sets\n",
    "TEST_SIZE = 0.33\n",
    "RANDOM_STATE = 42\n",
    "\n",
    "x_3_train, x_3_test, y_3_train, y_3_test = train_test_split(X_3, y_3, test_size=TEST_SIZE, random_state=RANDOM_STATE)\n",
    "x_30_train, x_30_test, y_30_train, y_30_test = train_test_split(X_30, y_30, test_size=TEST_SIZE, random_state=RANDOM_STATE)\n",
    "\n",
    "y_3_train, y_3_test, y_30_train, y_30_test = map(torch.LongTensor, [y_3_train, y_3_test, y_30_train, y_30_test])\n",
    "x_3_train, x_3_test, x_30_train, x_30_test = map(torch.FloatTensor, [x_3_train, x_3_test, x_30_train, x_30_test])\n"
   ]
  },
  {
   "cell_type": "code",
   "execution_count": 9,
   "metadata": {},
   "outputs": [],
   "source": [
    "class ShallowModel(nn.Module):\n",
    "\n",
    "    def __init__(self, num_hidden: int):\n",
    "        super().__init__()\n",
    "        self.hidden = nn.Linear(57, num_hidden)\n",
    "        self.output = nn.Linear(num_hidden, 10)\n",
    "        \n",
    "\n",
    "    def forward(self, x):\n",
    "        x = torch.relu(self.hidden(x))\n",
    "        x = self.output(x)\n",
    "        return x"
   ]
  },
  {
   "cell_type": "code",
   "execution_count": 42,
   "metadata": {},
   "outputs": [],
   "source": [
    "class DeepModelTwoHiddenLayer(nn.Module):\n",
    "\n",
    "    def __init__(self, num_hidden_nodes_1: int, num_hidden_nodes_2: int):\n",
    "        super().__init__()\n",
    "        self.hidden1 = nn.Linear(57, num_hidden_nodes_1)\n",
    "        self.hidden2 = nn.Linear(num_hidden_nodes_1, num_hidden_nodes_2)\n",
    "        self.output = nn.Linear(num_hidden_nodes_2, 10)\n",
    "\n",
    "    def forward(self, x):\n",
    "        x = self.hidden1(x)\n",
    "        x = torch.relu(self.hidden2(x))\n",
    "        x = self.output(x)\n",
    "        return x"
   ]
  },
  {
   "cell_type": "code",
   "execution_count": 54,
   "metadata": {},
   "outputs": [],
   "source": [
    "class DeepModelThreeHiddenLayer(nn.Module):\n",
    "\n",
    "    def __init__(self, num_hidden_nodes_1: int, num_hidden_nodes_2: int, num_hidden_nodes_3: int):\n",
    "        super().__init__()\n",
    "        self.hidden1 = nn.Linear(57, num_hidden_nodes_1)\n",
    "        self.hidden2 = nn.Linear(num_hidden_nodes_1, num_hidden_nodes_2)\n",
    "        self.hidden3 = nn.Linear(num_hidden_nodes_2, num_hidden_nodes_3)\n",
    "        self.output = nn.Linear(num_hidden_nodes_3, 10)\n",
    "\n",
    "    def forward(self, x):\n",
    "        x = torch.relu(self.hidden1(x))\n",
    "        x = torch.relu(self.hidden2(x))\n",
    "        x = torch.relu(self.hidden3(x))\n",
    "        x = self.output(x)\n",
    "        return x"
   ]
  },
  {
   "cell_type": "code",
   "execution_count": 11,
   "metadata": {},
   "outputs": [],
   "source": [
    "class GTZANDataset(Dataset):\n",
    "\n",
    "    def __init__(self, x_data, y_data):\n",
    "        self._x_data = x_data\n",
    "        self._y_data = y_data\n",
    "\n",
    "    def __len__(self):\n",
    "        return len(self._x_data)\n",
    "        \n",
    "    def __getitem__(self, idx):\n",
    "        return [self._x_data[idx], self._y_data[idx]]"
   ]
  },
  {
   "cell_type": "code",
   "execution_count": 80,
   "metadata": {},
   "outputs": [],
   "source": [
    "def train_model(model, loss_func, x_train, y_train, epochs: int, lr: float, l2_reg: float, batch_size: int, verbose = False):\n",
    "\tdataset = GTZANDataset(x_train, y_train)\n",
    "\tdataloader = DataLoader(dataset, batch_size=batch_size)\n",
    "\n",
    "\t# set the model to training mode\n",
    "\tmodel.train()\n",
    "\n",
    "\t# save average losses every epoch\n",
    "\tlosses = []\n",
    "\n",
    "\t# optimize the model\n",
    "\tfor epoch in range(epochs):\n",
    "\n",
    "\t\toptimizer = torch.optim.SGD(params=model.parameters(), lr=lr, weight_decay=l2_reg)\n",
    "\n",
    "\t\tlosses_each_batch = []\n",
    "\n",
    "\t\tfor batch, (x, y) in enumerate(dataloader):\n",
    "\n",
    "\t\t\ty_pred = model(x)\n",
    "\n",
    "\t\t\tloss = loss_func(y_pred, y)\n",
    "\n",
    "\t\t\t# backpropogation\n",
    "\t\t\toptimizer.zero_grad()\n",
    "\t\t\tloss.backward()\n",
    "\t\t\toptimizer.step()\n",
    "\n",
    "\t\t\twith torch.no_grad():\n",
    "\t\t\t\tfor param in model.parameters():\n",
    "\t\t\t\t\tparam -= lr * param.grad\n",
    "\n",
    "\t\t\t# save the loss for this batch\n",
    "\t\t\tlosses_each_batch.append(loss.item())\n",
    "\n",
    "\t\t\tif verbose and batch % (batch_size // 10) == 0:\n",
    "\t\t\t\tavg_running_loss = sum(losses_each_batch) / len(losses_each_batch)\n",
    "\t\t\t\tcurrent = batch * len(x)\n",
    "\t\t\t\t# print(f\"Epoch [{epoch:03}] Batch [{batch:03}] avg_running_loss: {avg_running_loss:>7f} [{current:>5d}/{len(dataset):>5d}]\")\n",
    "\n",
    "\t\t# average all the batch losses for this epoch and save it\n",
    "\t\tavg_loss_epoch = sum(losses_each_batch) / len(losses_each_batch)\n",
    "\t\tlosses.append(avg_loss_epoch)\n",
    "\n",
    "\t\tif verbose and (epoch % 50 == 0):\n",
    "\t\t\tprint(f\"Epoch [{epoch:03}]: average loss: {avg_loss_epoch:>7f}\")\n",
    "\n",
    "\t# set the model to evaluation mode\n",
    "\tmodel.eval()\n",
    "\treturn model, losses"
   ]
  },
  {
   "cell_type": "code",
   "execution_count": 64,
   "metadata": {},
   "outputs": [],
   "source": [
    "def run_training_experiments(experiment_configs, x_train, y_train):\n",
    "\n",
    "    models = {}\n",
    "\n",
    "    for model_id, config in experiment_configs.items():\n",
    "        model_class = config[\"model_class\"]\n",
    "        model_kwargs = config[\"model_kwargs\"] if \"model_kwargs\" in config.keys() else {} \n",
    "        model_instance = model_class(**model_kwargs)\n",
    "        loss_func_class = config[\"loss_func_class\"]\n",
    "        loss_func_kwargs = config[\"loss_func_kwargs\"] if \"loss_func_kwargs\" in config.keys() else {}\n",
    "        loss_func = loss_func_class(**loss_func_kwargs)\n",
    "\n",
    "        print(f\"TRAINING MODEL: {model_id}\")\n",
    "\n",
    "        output_model, losses = train_model(\n",
    "            model=model_instance,\n",
    "            loss_func=loss_func,\n",
    "            x_train=x_train,\n",
    "            y_train=y_train,\n",
    "            epochs=config[\"epoch\"],\n",
    "            lr=config[\"lr\"],\n",
    "            l2_reg=config[\"l2_reg\"],\n",
    "            batch_size=config[\"batch_size\"],\n",
    "            verbose=config[\"verbose\"]\n",
    "        )\n",
    "\n",
    "        models[model_id] = {\"model\": output_model, \"losses\": losses}\n",
    "\n",
    "    return models\n"
   ]
  },
  {
   "cell_type": "code",
   "execution_count": 67,
   "metadata": {},
   "outputs": [],
   "source": [
    "EPOCHS = 2000\n",
    "LEARNING_RATE = 0.001\n",
    "L2_REGULARIZATION = 0.001\n",
    "BATCH_SIZE = 64\n",
    "\n",
    "# OLD, UPDATE THESE TO CROSS ENTROPY LOSS\n",
    "# experiments = {\n",
    "#     \"Shallow Model 32 Hidden Nodes\": {\n",
    "#         \"model_class\": ShallowModel,\n",
    "#         \"model_kwargs\": {\n",
    "#             \"num_hidden\": 32\n",
    "#         },\n",
    "#         \"loss_func_class\": nn.NLLLoss,\n",
    "#         \"epoch\": 2000,\n",
    "#         \"lr\": LEARNING_RATE,\n",
    "#         \"l2_reg\": L2_REGULARIZATION,\n",
    "#         \"batch_size\": BATCH_SIZE,\n",
    "#         \"verbose\": True\n",
    "#     },\n",
    "#     \"Shallow Model 64 Hidden Nodes\": {\n",
    "#         \"model_class\": ShallowModel,\n",
    "#         \"model_kwargs\": {\n",
    "#             \"num_hidden\": 64\n",
    "#         },\n",
    "#         \"loss_func_class\": nn.NLLLoss,\n",
    "#         \"epoch\": 2000,\n",
    "#         \"lr\": LEARNING_RATE,\n",
    "#         \"l2_reg\": L2_REGULARIZATION,\n",
    "#         \"batch_size\": BATCH_SIZE,\n",
    "#         \"verbose\": True\n",
    "#     },\n",
    "#     \"Shallow Model 128 Hidden Nodes\": {\n",
    "#         \"model_class\": ShallowModel,\n",
    "#         \"model_kwargs\": {\n",
    "#             \"num_hidden\": 128\n",
    "#         },\n",
    "#         \"loss_func_class\": nn.NLLLoss,\n",
    "#         \"epoch\": 2000,\n",
    "#         \"lr\": LEARNING_RATE,\n",
    "#         \"l2_reg\": L2_REGULARIZATION,\n",
    "#         \"batch_size\": BATCH_SIZE,\n",
    "#         \"verbose\": True\n",
    "#     },\n",
    "#     \"Deep Model 2 Hidden Layers 64 - 32 nodes\": {\n",
    "#         \"model_class\": DeepModelTwoHiddenLayer,\n",
    "#         \"model_kwargs\": {\n",
    "#             \"num_hidden_nodes_1\": 64,\n",
    "#             \"num_hidden_nodes_2\": 32\n",
    "#         },\n",
    "#         \"loss_func_class\": nn.NLLLoss,\n",
    "#         \"epoch\": 2000,\n",
    "#         \"lr\": LEARNING_RATE,\n",
    "#         \"l2_reg\": L2_REGULARIZATION,\n",
    "#         \"batch_size\": BATCH_SIZE,\n",
    "#         \"verbose\": True\n",
    "#     },\n",
    "#     \"Deep Model 2 Hidden Layers 128 - 64 nodes\": {\n",
    "#         \"model_class\": DeepModelTwoHiddenLayer,\n",
    "#         \"model_kwargs\": {\n",
    "#             \"num_hidden_nodes_1\": 128,\n",
    "#             \"num_hidden_nodes_2\": 64\n",
    "#         },\n",
    "#         \"loss_func_class\": nn.NLLLoss,\n",
    "#         \"epoch\": 2000,\n",
    "#         \"lr\": LEARNING_RATE,\n",
    "#         \"l2_reg\": L2_REGULARIZATION,\n",
    "#         \"batch_size\": BATCH_SIZE,\n",
    "#         \"verbose\": True\n",
    "#     },\n",
    "# }\n",
    "\n",
    "experiments = {\n",
    "    \"Deep Model 3 Hidden Layers 128 - 64 - 32 nodes\": {\n",
    "        \"model_class\": DeepModelTwoHiddenLayer,\n",
    "        \"model_kwargs\": {\n",
    "            \"num_hidden_nodes_1\": 128,\n",
    "            \"num_hidden_nodes_2\": 64,\n",
    "        },\n",
    "        \"loss_func_class\": nn.CrossEntropyLoss,\n",
    "        \"epoch\": 500,\n",
    "        \"lr\": LEARNING_RATE,\n",
    "        \"l2_reg\": L2_REGULARIZATION,\n",
    "        \"batch_size\": BATCH_SIZE,\n",
    "        \"verbose\": True\n",
    "    }\n",
    "}"
   ]
  },
  {
   "cell_type": "code",
   "execution_count": 81,
   "metadata": {},
   "outputs": [
    {
     "name": "stdout",
     "output_type": "stream",
     "text": [
      "TRAINING MODEL: Deep Model 3 Hidden Layers 128 - 64 - 32 nodes\n",
      "Epoch [000]: average loss: 2.287039\n",
      "Epoch [050]: average loss: 1.210259\n",
      "Epoch [100]: average loss: 0.956649\n",
      "Epoch [150]: average loss: 0.819952\n",
      "Epoch [200]: average loss: 0.739350\n",
      "Epoch [250]: average loss: 0.684356\n",
      "Epoch [300]: average loss: 0.641141\n",
      "Epoch [350]: average loss: 0.603977\n",
      "Epoch [400]: average loss: 0.570840\n",
      "Epoch [450]: average loss: 0.541220\n"
     ]
    }
   ],
   "source": [
    "three_sec_training_results = run_training_experiments(experiment_configs=experiments, x_train=x_3_train, y_train=y_3_train)"
   ]
  },
  {
   "cell_type": "code",
   "execution_count": 82,
   "metadata": {},
   "outputs": [],
   "source": [
    "def plot_loss(outputs):\n",
    "    legend = []\n",
    "    for model_id, output in outputs.items():\n",
    "        legend.append(model_id)\n",
    "        losses = output[\"losses\"]\n",
    "        plt.plot(range(len(losses)), losses)\n",
    "    plt.legend(legend, loc='upper left')\n",
    "    plt.title(\"Training loss\")\n",
    "    plt.show()"
   ]
  },
  {
   "cell_type": "code",
   "execution_count": 83,
   "metadata": {},
   "outputs": [
    {
     "data": {
      "image/png": "[encoded data removed]",
      "text/plain": [
       "<Figure size 432x288 with 1 Axes>"
      ]
     },
     "metadata": {
      "needs_background": "light"
     },
     "output_type": "display_data"
    }
   ],
   "source": [
    "plot_loss(outputs=three_sec_training_results)"
   ]
  },
  {
   "cell_type": "code",
   "execution_count": 84,
   "metadata": {},
   "outputs": [],
   "source": [
    "def evaluate_model(model, x_data, y_data, batch_size):\n",
    "\tdataset = GTZANDataset(x_data, y_data)\n",
    "\tdataloader = DataLoader(dataset, batch_size=batch_size)\n",
    "\n",
    "\tmodel.eval()\n",
    "\n",
    "\tcorrect = 0\n",
    "\tpred = 0\n",
    "    \n",
    "\tfor x, y in dataloader:\n",
    "\t\ty_pred = model(x)\n",
    "\n",
    "\t\ty_pred_softmax = torch.log_softmax(y_pred, dim=1)\n",
    "\t\t_, y_pred_tags = torch.max(y_pred_softmax, dim=1)\n",
    "\n",
    "\t\tcorrect_pred = (y_pred_tags == y).float()\n",
    "\t\tcorrect += int(correct_pred.sum())\n",
    "\t\tpred += len(correct_pred)\n",
    "\n",
    "\tacc = correct / pred\n",
    "\tprint(f\"Accuracy: {round(acc * 100, 2)}\")"
   ]
  },
  {
   "cell_type": "code",
   "execution_count": 85,
   "metadata": {},
   "outputs": [
    {
     "name": "stdout",
     "output_type": "stream",
     "text": [
      "Accuracy: 83.19\n",
      "Accuracy: 78.8\n"
     ]
    }
   ],
   "source": [
    "\n",
    "for title, result in three_sec_training_results.items():\n",
    "\tmodel = result[\"model\"]\n",
    "\tevaluate_model(model, x_3_train, y_3_train, batch_size=BATCH_SIZE)\n",
    "\tevaluate_model(model, x_3_test, y_3_test, batch_size=BATCH_SIZE)"
   ]
  }
 ],
 "metadata": {
  "interpreter": {
   "hash": "b8081627c84a10a0c009821c0f8eb61b714e9fda0899b4e24c997d05071010c8"
  },
  "kernelspec": {
   "display_name": "Python 3.9.7 64-bit ('ds4400-final-project': conda)",
   "language": "python",
   "name": "python3"
  },
  "language_info": {
   "codemirror_mode": {
    "name": "ipython",
    "version": 3
   },
   "file_extension": ".py",
   "mimetype": "text/x-python",
   "name": "python",
   "nbconvert_exporter": "python",
   "pygments_lexer": "ipython3",
   "version": "3.6.8"
  },
  "orig_nbformat": 4
 },
 "nbformat": 4,
 "nbformat_minor": 2
}
